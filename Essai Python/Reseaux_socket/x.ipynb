{
 "cells": [
  {
   "cell_type": "markdown",
   "metadata": {},
   "source": [
    "À partir de la socket de connexion du client, il est possible de lire les données reçues grâce à la méthode recv() et de répondre avec la méthode send(). Les données lues et écrites par une socket sont des objets de type bytes.\n",
    "On utilise la même fonction socket() pour créer une socket cliente. Pour le client, on appelle la méthode :\n",
    "\n",
    "connect()\n",
    "Pour se connecter au serveur en indiquant son adresse et son port.\n"
   ]
  },
  {
   "cell_type": "code",
   "execution_count": null,
   "metadata": {},
   "outputs": [],
   "source": [
    "with socket.socket(socket.AF_INET, socket.SOCK_STREAM) as s:\n",
    "    s.connect((host, port))\n",
    "    s.sendall(\"Hello world\".encode('utf-8'))\n",
    "    buff = s.recv(512)\n",
    "    print(buff.decode())\n"
   ]
  },
  {
   "cell_type": "code",
   "execution_count": null,
   "metadata": {},
   "outputs": [
    {
     "ename": "",
     "evalue": "",
     "output_type": "error",
     "traceback": [
      "\u001b[1;31mRunning cells with 'c:\\Users\\Régis AMANI\\AppData\\Local\\Programs\\Python\\Python312\\python.exe' requires the ipykernel package.\n",
      "\u001b[1;31mRun the following command to install 'ipykernel' into the Python environment. \n",
      "\u001b[1;31mCommand: '\"c:/Users/Régis AMANI/AppData/Local/Programs/Python/Python312/python.exe\" -m pip install ipykernel -U --user --force-reinstall'"
     ]
    }
   ],
   "source": [
    "import socket, multiprocessing\n",
    "\n",
    "host = 'localhost'\n",
    "port = 8000\n",
    "nb_workers = 10\n",
    "\n",
    "with socket.socket(socket.AF_INET, socket.SOCK_STREAM) as s:\n",
    "    s.setsockopt(socket.SOL_SOCKET, socket.SO_REUSEADDR, 1)\n",
    "    s.bind((host, port))\n",
    "    s.listen(1)\n",
    "    with multiprocessing.Pool(nb_workers) as pool:\n",
    "        while True:\n",
    "            conn, address = s.accept()\n",
    "            pool.apply(handle, (conn, address))\n",
    "\n",
    "def handle(conn, address):\n",
    "    with conn:\n",
    "        buff = conn.recv(512)\n",
    "        message = buff.decode('utf-8')\n",
    "        conn.sendall(f\"echo : {message}\".encode('utf-8'))\n"
   ]
  },
  {
   "cell_type": "markdown",
   "metadata": {},
   "source": []
  }
 ],
 "metadata": {
  "kernelspec": {
   "display_name": "Python 3",
   "language": "python",
   "name": "python3"
  },
  "language_info": {
   "name": "python",
   "version": "3.12.0"
  }
 },
 "nbformat": 4,
 "nbformat_minor": 2
}
