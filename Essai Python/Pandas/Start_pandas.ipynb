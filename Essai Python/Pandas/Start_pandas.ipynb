
import pandas as pd

pd.read_csv(r"C:\Users\Régis AMANI\Documents\Essai Python\Pandas\liste etats.csv")